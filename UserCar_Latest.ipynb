{
 "cells": [
  {
   "cell_type": "code",
   "execution_count": null,
   "id": "ec74d70b",
   "metadata": {},
   "outputs": [],
   "source": [
    "#IMPORT ALL REQUIRED LIBRARIES \n",
    "# Pandas\n",
    "import pandas as pd\n",
    "# Numpy\n",
    "import numpy as np\n",
    "# Libraries for plotting\n",
    "import matplotlib.pyplot as plt\n",
    "import seaborn as sns\n",
    "# Train-test split\n",
    "from sklearn.model_selection import train_test_split\n",
    "# Min-max scling\n",
    "from sklearn.preprocessing import MinMaxScaler\n",
    "# Statsmodel \n",
    "import statsmodels.api as sm\n",
    "# VIF \n",
    "from statsmodels.stats.outliers_influence import variance_inflation_factor\n",
    "#R-squared\n",
    "from sklearn.metrics import r2_score\n",
    "# Label encoding\n",
    "from sklearn.preprocessing import LabelEncoder\n",
    "# Importing RFE\n",
    "from sklearn.feature_selection import RFE\n",
    "# Importing LinearRegression\n",
    "from sklearn.linear_model import LinearRegression\n",
    "# Supress warning\n",
    "import warnings\n",
    "warnings.filterwarnings('ignore')\n",
    "\n",
    "# Libraries for cross validation \n",
    "from sklearn.metrics import mean_squared_error\n",
    "from sklearn.model_selection import KFold\n",
    "from sklearn import metrics\n",
    "from sklearn.ensemble import RandomForestRegressor\n",
    "\n",
    "from sklearn import datasets\n",
    "from sklearn.model_selection import cross_val_score, cross_val_predict\n",
    "\n",
    "pd.set_option('display.max_columns',None)\n",
    "%matplotlib inline\n",
    "\n",
    "# Read the data\n",
    "df_car = pd.read_csv('TrainData.csv')\n",
    "df_car.head()"
   ]
  },
  {
   "cell_type": "code",
   "execution_count": null,
   "id": "f9792513",
   "metadata": {},
   "outputs": [],
   "source": [
    "df_car.shape"
   ]
  },
  {
   "cell_type": "code",
   "execution_count": null,
   "id": "7cdcf862",
   "metadata": {},
   "outputs": [],
   "source": [
    "df_car.info()"
   ]
  },
  {
   "cell_type": "code",
   "execution_count": null,
   "id": "18aa8c6e",
   "metadata": {},
   "outputs": [],
   "source": [
    "df_car.describe()"
   ]
  },
  {
   "cell_type": "code",
   "execution_count": null,
   "id": "e2287c91",
   "metadata": {},
   "outputs": [],
   "source": [
    "#Check for null values\n",
    "df_car.isnull().sum()"
   ]
  },
  {
   "cell_type": "code",
   "execution_count": null,
   "id": "9d64841e",
   "metadata": {},
   "outputs": [],
   "source": [
    "#Repalce \"?\"\" with highest value from the column for number of doors\n",
    "df_car['num-of-doors'] = df_car['num-of-doors'].map({'four':1, 'two':0,'?':1})"
   ]
  },
  {
   "cell_type": "code",
   "execution_count": null,
   "id": "39949f35",
   "metadata": {},
   "outputs": [],
   "source": [
    "#Check\n",
    "df_car['num-of-doors'].values"
   ]
  },
  {
   "cell_type": "code",
   "execution_count": null,
   "id": "db316200",
   "metadata": {},
   "outputs": [],
   "source": [
    "#find all frames with \"?\"\n",
    "df_car=df_car.replace(\"?\",np.NaN)"
   ]
  },
  {
   "cell_type": "code",
   "execution_count": null,
   "id": "191cc798",
   "metadata": {},
   "outputs": [],
   "source": [
    "#remove column ID \n",
    "df_car=df_car.drop([\"ID\"],axis=1)"
   ]
  },
  {
   "cell_type": "code",
   "execution_count": null,
   "id": "9f9295ff",
   "metadata": {},
   "outputs": [],
   "source": [
    "df_car.info()"
   ]
  },
  {
   "cell_type": "code",
   "execution_count": null,
   "id": "cc635dc8",
   "metadata": {},
   "outputs": [],
   "source": [
    "#CONVERT all STRING based numeric columns to Numeric\n",
    "df_car['normalized-losses']=df_car['normalized-losses'].astype(np.float)"
   ]
  },
  {
   "cell_type": "code",
   "execution_count": null,
   "id": "87b3c6a7",
   "metadata": {},
   "outputs": [],
   "source": [
    "df_car['normalized-losses']"
   ]
  },
  {
   "cell_type": "code",
   "execution_count": null,
   "id": "c69d1c96",
   "metadata": {},
   "outputs": [],
   "source": [
    "df_car['bore']=df_car['bore'].astype(float)"
   ]
  },
  {
   "cell_type": "code",
   "execution_count": null,
   "id": "49b77fd8",
   "metadata": {},
   "outputs": [],
   "source": [
    "df_car['bore']"
   ]
  },
  {
   "cell_type": "code",
   "execution_count": null,
   "id": "f92a10a4",
   "metadata": {},
   "outputs": [],
   "source": [
    "df_car['stroke']=df_car['stroke'].astype(float)"
   ]
  },
  {
   "cell_type": "code",
   "execution_count": null,
   "id": "295778e7",
   "metadata": {},
   "outputs": [],
   "source": [
    "df_car['stroke']"
   ]
  },
  {
   "cell_type": "code",
   "execution_count": null,
   "id": "5b402621",
   "metadata": {},
   "outputs": [],
   "source": [
    "df_car['horsepower']=df_car['horsepower'].astype(np.float)"
   ]
  },
  {
   "cell_type": "code",
   "execution_count": null,
   "id": "35fd8a7c",
   "metadata": {},
   "outputs": [],
   "source": [
    "df_car['horsepower']"
   ]
  },
  {
   "cell_type": "code",
   "execution_count": null,
   "id": "6d9d0dca",
   "metadata": {},
   "outputs": [],
   "source": [
    "df_car['peak-rpm']=df_car['peak-rpm'].astype(np.float)"
   ]
  },
  {
   "cell_type": "code",
   "execution_count": null,
   "id": "b628b921",
   "metadata": {},
   "outputs": [],
   "source": [
    "df_car['peak-rpm']"
   ]
  },
  {
   "cell_type": "code",
   "execution_count": null,
   "id": "60eb1959",
   "metadata": {},
   "outputs": [],
   "source": [
    "df_car.info()"
   ]
  },
  {
   "cell_type": "code",
   "execution_count": null,
   "id": "c0e5f55d",
   "metadata": {},
   "outputs": [],
   "source": [
    "#Replace all Null values with mean from the respective columns\n",
    "df_car.fillna(df_car.mean(),inplace=True)"
   ]
  },
  {
   "cell_type": "code",
   "execution_count": null,
   "id": "9f4d2f74",
   "metadata": {},
   "outputs": [],
   "source": [
    "df_car.info()"
   ]
  },
  {
   "cell_type": "code",
   "execution_count": null,
   "id": "c43ec2e8",
   "metadata": {},
   "outputs": [],
   "source": [
    "df_car.describe()"
   ]
  },
  {
   "cell_type": "code",
   "execution_count": null,
   "id": "ff1fa071",
   "metadata": {},
   "outputs": [],
   "source": [
    "#gather all numerical columns\n",
    "columns_num=['price','symboling','wheel-base','length','width','height','curb-weight','engine-size','compression-ratio',\n",
    "             'city-mpg','highway-mpg','peak-rpm','horsepower','stroke','bore','normalized-losses','num-of-doors']"
   ]
  },
  {
   "cell_type": "code",
   "execution_count": null,
   "id": "63ae1ce5",
   "metadata": {},
   "outputs": [],
   "source": [
    "#gather categorical variables\n",
    "columns_cat=['make','fuel-type','aspiration','body-style','drive-wheels','engine-location','engine-type','num-of-cylinders'\n",
    "             ,'fuel-system']"
   ]
  },
  {
   "cell_type": "code",
   "execution_count": null,
   "id": "ba16dc30",
   "metadata": {},
   "outputs": [],
   "source": [
    "#Plot Categorical variable bar plots\n",
    "#k=0\n",
    "#plt.figure(figsize=(20,25))\n",
    "#for col in columns_cat:    \n",
    "#    k=k+1\n",
    " #   plt.subplot(4,4,k)    \n",
    "  #  df_car[col].value_counts().plot(kind='bar');\n",
    "   # plt.title(col)"
   ]
  },
  {
   "cell_type": "code",
   "execution_count": null,
   "id": "d6227b18",
   "metadata": {},
   "outputs": [],
   "source": [
    "#Plot Pair Plots for all numerical variables\n",
    "#plt.figure(figsize=(12,12))\n",
    "#sns.pairplot(df_car[columns_num])\n",
    "#plt.show()"
   ]
  },
  {
   "cell_type": "code",
   "execution_count": null,
   "id": "84e0e21b",
   "metadata": {},
   "outputs": [],
   "source": [
    "#Plot HeatMap\n",
    "#k=0\n",
    "#plt.figure(figsize=(25,100))\n",
    "#for col in range (len(columns_cat)-1):    \n",
    "#   k=k+1\n",
    "#   plt.subplot(16,1, k)   \n",
    "#   ax = sns.boxplot(x =columns_cat[col], y = 'price', data = df_car)"
   ]
  },
  {
   "cell_type": "code",
   "execution_count": null,
   "id": "945d769b",
   "metadata": {},
   "outputs": [],
   "source": [
    "#Convert All left categorical variables in to numerical variables\n",
    "# Convert \"fuel-type\" to 1 and \"diesel\" to 0\n",
    "df_car['fuel-type'] = df_car['fuel-type'].map({'gas': 1, 'diesel': 0})\n",
    "df_car.head()"
   ]
  },
  {
   "cell_type": "code",
   "execution_count": null,
   "id": "18bb916a",
   "metadata": {},
   "outputs": [],
   "source": [
    "#Convert Engine Location\n",
    "df_car['engine-location'] = df_car['engine-location'].map({'front': 1, 'rear': 0})\n",
    "df_car.head()"
   ]
  },
  {
   "cell_type": "code",
   "execution_count": null,
   "id": "bcda92f9",
   "metadata": {},
   "outputs": [],
   "source": [
    "# Convert aspiration \"std\" to 1 and \"turbo\" to 0\n",
    "df_car['aspiration'] = df_car['aspiration'].map({'std':1, 'turbo':0})\n",
    "df_car.head()"
   ]
  },
  {
   "cell_type": "code",
   "execution_count": null,
   "id": "15075a4c",
   "metadata": {},
   "outputs": [],
   "source": [
    "# Create Dummies for MAKE Column\n",
    "make_status = pd.get_dummies(df_car['make'],drop_first=True)\n",
    "make_status.head()"
   ]
  },
  {
   "cell_type": "code",
   "execution_count": null,
   "id": "859e1f40",
   "metadata": {},
   "outputs": [],
   "source": [
    "#Rename Column names\n",
    "make_status = make_status.rename(columns={    'audi':'make(audi)','bmw':'make(BMW)', \n",
    "                                             'chevrolet':'make(chevrolet)','dodge':'make(dodge)', \n",
    "                                             'honda':'make(honda)','jaguar':'make(jaguar)',\n",
    "                                             'mazda':'make(mazda)','mercedes-benz':'make(mercedes-benz)', \n",
    "                                             'mitsubishi':'make(mitsubishi)','nissan':'make(nissan)',\n",
    "                                             'peugot':'make(peugot)','plymouth':'make(plymouth)',\n",
    "                                            'porsche':'make(porsche)','saab':'make(saab)', \n",
    "                                             'subaru':'make(subaru)','toyota':'make(toyota)',\n",
    "                                             'volkswagen':'make(volkswagen)', 'volvo':'make(volvo)',\n",
    "                                             'alfa-romero':'make(alfa-romero)','isuzu':'make(isuzu)',\n",
    "                                            'mercury':'make(mercury)','renault':'make(renault)' })\n",
    "make_status.head()\n"
   ]
  },
  {
   "cell_type": "code",
   "execution_count": null,
   "id": "d4f3a52e",
   "metadata": {},
   "outputs": [],
   "source": [
    "# Concatinating the dummy dataframe with original dataframe\n",
    "df_car = pd.concat([df_car,make_status], axis=1)\n",
    "df_car.head()"
   ]
  },
  {
   "cell_type": "code",
   "execution_count": null,
   "id": "21eb3bf6",
   "metadata": {},
   "outputs": [],
   "source": [
    "# Dropping the 'make' column\n",
    "df_car = df_car.drop('make',axis=1)\n",
    "df_car.head()"
   ]
  },
  {
   "cell_type": "code",
   "execution_count": null,
   "id": "db77abfb",
   "metadata": {},
   "outputs": [],
   "source": [
    "# Creating dummy variables for 'body style'\n",
    "body_status = pd.get_dummies(df_car['body-style'],drop_first=True)\n",
    "body_status.head()"
   ]
  },
  {
   "cell_type": "code",
   "execution_count": null,
   "id": "bc980523",
   "metadata": {},
   "outputs": [],
   "source": [
    "# Renaming column names \n",
    "body_status = body_status.rename(columns={'convertible':'body(convertible)','hardtop':'body(hardtop)', 'hatchback':'body(hatchback)', 'sedan':'body(sedan)','wagon':'body(wagon)'})\n",
    "body_status.head()"
   ]
  },
  {
   "cell_type": "code",
   "execution_count": null,
   "id": "72acddf2",
   "metadata": {},
   "outputs": [],
   "source": [
    "# Concatinating the dummy dataframe with original dataframe\n",
    "df_car = pd.concat([df_car,body_status], axis=1)\n",
    "df_car.head()"
   ]
  },
  {
   "cell_type": "code",
   "execution_count": null,
   "id": "9d753239",
   "metadata": {},
   "outputs": [],
   "source": [
    "# Dropping the 'body-style' column as we don't need it\n",
    "df_car = df_car.drop('body-style',axis=1)\n",
    "df_car.head()"
   ]
  },
  {
   "cell_type": "code",
   "execution_count": null,
   "id": "4a5ba6d0",
   "metadata": {},
   "outputs": [],
   "source": [
    "# Creating dummy variables for 'drive-wheels'\n",
    "drivewheel_status = pd.get_dummies(df_car['drive-wheels'],drop_first=True)\n",
    "drivewheel_status.head()"
   ]
  },
  {
   "cell_type": "code",
   "execution_count": null,
   "id": "b9471220",
   "metadata": {},
   "outputs": [],
   "source": [
    "# Renaming column names for better readability\n",
    "drivewheel_status = drivewheel_status.rename(columns={'4wd':'drive(4wd)', 'fwd':'drive(fwd)', 'rwd':'drive(rwd)'})\n",
    "drivewheel_status.head()"
   ]
  },
  {
   "cell_type": "code",
   "execution_count": null,
   "id": "ec280955",
   "metadata": {},
   "outputs": [],
   "source": [
    "# Concatinating the dummy dataframe \n",
    "df_car = pd.concat([df_car,drivewheel_status], axis=1)\n",
    "df_car.head()"
   ]
  },
  {
   "cell_type": "code",
   "execution_count": null,
   "id": "02705db3",
   "metadata": {},
   "outputs": [],
   "source": [
    "#Remove Column Drive Wheels\n",
    "df_car = df_car.drop('drive-wheels',axis=1)\n",
    "df_car.head()"
   ]
  },
  {
   "cell_type": "code",
   "execution_count": null,
   "id": "9442dc1a",
   "metadata": {},
   "outputs": [],
   "source": [
    "# Creating dummy variables for 'engine-type'\n",
    "enginetype_status = pd.get_dummies(df_car['engine-type'], drop_first=True)\n",
    "enginetype_status.head()"
   ]
  },
  {
   "cell_type": "code",
   "execution_count": null,
   "id": "464f7335",
   "metadata": {},
   "outputs": [],
   "source": [
    "# Renaming column name \n",
    "enginetype_status = enginetype_status.rename(columns={'dohc':'enginetype(dohc)', 'l':'enginetype(l)', 'ohc':'enginetype(ohc)', \n",
    "                                                      'ohcf':'enginetype(ohcf)','ohcv':'enginetype(ohcv)',\n",
    "                                                        'rotor':'enginetype(rotor)'})\n",
    "enginetype_status.head()"
   ]
  },
  {
   "cell_type": "code",
   "execution_count": null,
   "id": "c2d16688",
   "metadata": {},
   "outputs": [],
   "source": [
    "# Concating the dummy dataframe with original dataframe\n",
    "df_car = pd.concat([df_car,enginetype_status], axis=1)\n",
    "df_car.head()"
   ]
  },
  {
   "cell_type": "code",
   "execution_count": null,
   "id": "975df2c5",
   "metadata": {},
   "outputs": [],
   "source": [
    "# Dropping the 'enginetype' column \n",
    "df_car = df_car.drop('engine-type',axis=1)\n",
    "df_car.head()"
   ]
  },
  {
   "cell_type": "code",
   "execution_count": null,
   "id": "0ff88ec7",
   "metadata": {},
   "outputs": [],
   "source": [
    "# Creating dummy variables for 'cylinders'\n",
    "cylinders_status = pd.get_dummies(df_car['num-of-cylinders'], drop_first=True)\n",
    "cylinders_status.head()"
   ]
  },
  {
   "cell_type": "code",
   "execution_count": null,
   "id": "cf112d26",
   "metadata": {},
   "outputs": [],
   "source": [
    "# Creating dummy variables for 'cylindernumber'\n",
    "cylinders_status = cylinders_status.rename(columns={'eight':'cylindernumber(eight)','five':'cylindernumber(five)', 'four':'cylindernumber(four)', 'six':'cylindernumber(six)', \n",
    "                                                      'three':'cylindernumber(three)','twelve':'cylindernumber(twelve)',\n",
    "                                                       'two':'cylindernumber(two)'})\n",
    "cylinders_status.head()"
   ]
  },
  {
   "cell_type": "code",
   "execution_count": null,
   "id": "ce3d2cef",
   "metadata": {},
   "outputs": [],
   "source": [
    "# Concating the dummy dataframe with original dataframe\n",
    "df_car = pd.concat([df_car,cylinders_status], axis=1)\n",
    "df_car.head()"
   ]
  },
  {
   "cell_type": "code",
   "execution_count": null,
   "id": "de3e2f7d",
   "metadata": {},
   "outputs": [],
   "source": [
    "# Dropping the 'cylindernumber' column \n",
    "df_car = df_car.drop('num-of-cylinders',axis=1)\n",
    "df_car.head()"
   ]
  },
  {
   "cell_type": "code",
   "execution_count": null,
   "id": "cf5c2b32",
   "metadata": {},
   "outputs": [],
   "source": [
    "# Creating dummy variables for 'fuelsystem'\n",
    "fuelsystem_status = pd.get_dummies(df_car['fuel-system'], drop_first=True)\n",
    "fuelsystem_status.head()"
   ]
  },
  {
   "cell_type": "code",
   "execution_count": null,
   "id": "bf0fd35c",
   "metadata": {},
   "outputs": [],
   "source": [
    "# Renaming column name \n",
    "fuelsystem_status = fuelsystem_status.rename(columns={'1bbl':'fuelsystem(1bbl)','2bbl':'fuelsystem(2bbl)','idi':'fuelsystem(idi)', \n",
    "                                                      'mfi':'fuelsystem(mfi)','mpfi':'fuelsystem(mpfi)' ,'spdi':'fuelsystem(spdi)',\n",
    "                                                     'spfi':'fuelsystem(spfi)','4bbl':'fuelsystem(4bbl)'})\n",
    "fuelsystem_status.head()"
   ]
  },
  {
   "cell_type": "code",
   "execution_count": null,
   "id": "8db6deaf",
   "metadata": {},
   "outputs": [],
   "source": [
    "# Concating the dummy dataframe with original dataframe\n",
    "df_car = pd.concat([df_car,fuelsystem_status], axis=1)\n",
    "df_car.head()"
   ]
  },
  {
   "cell_type": "code",
   "execution_count": null,
   "id": "07d89cc4",
   "metadata": {},
   "outputs": [],
   "source": [
    "# Dropping the 'fuelsystem' column \n",
    "df_car = df_car.drop('fuel-system',axis=1)\n",
    "df_car.head()"
   ]
  },
  {
   "cell_type": "code",
   "execution_count": null,
   "id": "f7b2e8dd",
   "metadata": {},
   "outputs": [],
   "source": [
    "df_car.info()"
   ]
  },
  {
   "cell_type": "code",
   "execution_count": null,
   "id": "4b47502b",
   "metadata": {},
   "outputs": [],
   "source": [
    "# Splitting train and test dataset into 80:20 percent ratio.\n",
    "df_train, df_test = train_test_split(df_car, train_size=0.8, random_state=100)\n",
    "print(df_train.shape)\n",
    "print(df_test.shape)\n",
    "df_train.info()"
   ]
  },
  {
   "cell_type": "code",
   "execution_count": null,
   "id": "57141aa3",
   "metadata": {},
   "outputs": [],
   "source": [
    "df_car.head()"
   ]
  },
  {
   "cell_type": "code",
   "execution_count": null,
   "id": "8c7de48a",
   "metadata": {},
   "outputs": [],
   "source": [
    "# Create a list of numeric variables. We don't need categorical variables because they are already scalled to 0 and 1\n",
    "num_vars = ['symboling','normalized-losses','wheel-base','length','width','height','curb-weight','engine-size',\n",
    "            'bore','stroke','compression-ratio','horsepower','peak-rpm','city-mpg','highway-mpg','price']\n",
    "\n",
    "# Instantiate an object\n",
    "scaler = MinMaxScaler()\n",
    "\n",
    "# Fit the data in the object\n",
    "df_train[num_vars] = scaler.fit_transform(df_train[num_vars])\n",
    "df_train.head()"
   ]
  },
  {
   "cell_type": "code",
   "execution_count": null,
   "id": "3f57c937",
   "metadata": {},
   "outputs": [],
   "source": [
    "# Popping out the 'price' column for y_train\n",
    "y_train = df_train.pop('price') \n",
    "# Creating X_train\n",
    "X_train = df_train"
   ]
  },
  {
   "cell_type": "code",
   "execution_count": null,
   "id": "7a6d78ff",
   "metadata": {},
   "outputs": [],
   "source": [
    "# Creating the model using scikit learn \n",
    "lm = LinearRegression()\n",
    "lm.fit(X_train, y_train)"
   ]
  },
  {
   "cell_type": "code",
   "execution_count": null,
   "id": "acd74653",
   "metadata": {},
   "outputs": [],
   "source": [
    "# RFE with the number of variables 20. We will select top 20 features.\n",
    "rfe = RFE(lm, 20)\n",
    "ref = rfe.fit(X_train, y_train)"
   ]
  },
  {
   "cell_type": "code",
   "execution_count": null,
   "id": "8ab2e185",
   "metadata": {},
   "outputs": [],
   "source": [
    "list(zip(X_train.columns, rfe.support_, rfe.ranking_))"
   ]
  },
  {
   "cell_type": "code",
   "execution_count": null,
   "id": "1e381e65",
   "metadata": {},
   "outputs": [],
   "source": [
    "# Top 20 features selected by the RFE\n",
    "rfe_cols = X_train.columns[rfe.support_]\n",
    "rfe_cols"
   ]
  },
  {
   "cell_type": "code",
   "execution_count": null,
   "id": "2d121a58",
   "metadata": {},
   "outputs": [],
   "source": [
    "# Creating X_train dataframe with RFE selected variables\n",
    "X_train_1 = X_train[rfe_cols]\n",
    "X_train_1.head()"
   ]
  },
  {
   "cell_type": "code",
   "execution_count": null,
   "id": "afb78634",
   "metadata": {},
   "outputs": [],
   "source": [
    "# Adding constant  \n",
    "X_train_sm_1 = sm.add_constant(X_train_1)\n",
    "# Creating model\n",
    "lr_1 = sm.OLS(y_train, X_train_sm_1)\n",
    "# Fit the model\n",
    "lr_model_1 = lr_1.fit()\n",
    "print(lr_model_1.summary())"
   ]
  },
  {
   "cell_type": "code",
   "execution_count": null,
   "id": "96aa0df5",
   "metadata": {},
   "outputs": [],
   "source": [
    "# Create a dataframe that will contain the names of all the feature variables and their respective VIFs\n",
    "vif = pd.DataFrame()\n",
    "vif['Features'] = X_train_1.columns\n",
    "vif['VIF'] = [variance_inflation_factor(X_train_1.values, i) for i in range(X_train_1.shape[1])]\n",
    "vif['VIF'] = round(vif['VIF'], 2)\n",
    "vif = vif.sort_values(by = \"VIF\", ascending = False)\n",
    "vif"
   ]
  },
  {
   "cell_type": "code",
   "execution_count": null,
   "id": "2b653231",
   "metadata": {},
   "outputs": [],
   "source": [
    "# High p-value and high VIF :-  remove this first.\n",
    "# High p-value and low VIF :- remove this next. Because once we remove this variable there may be possiblity that when we again create the VIF, the VIF may become low. Because VIF is the corealtion of a variable with rest of the other variables.\n",
    "# Low p-value and high VIF :- Remove this variable after the ones above.\n",
    "# Low p-value and low VIF :-Keep this variable.\n",
    "\n",
    "# Removing CITY-MPG based on Pvalue and VIF\n",
    "X_train_2 = X_train_1.drop('city-mpg',axis=1)\n",
    "\n",
    "# Adding constant \n",
    "X_train_sm_2 = sm.add_constant(X_train_2)\n",
    "# Creating and fitting the model\n",
    "lr_model_2 = sm.OLS(y_train, X_train_sm_2).fit()\n",
    "print(lr_model_2.summary())\n",
    "\n",
    "# Create VIF for Model-2\n",
    "vif = pd.DataFrame()\n",
    "vif['Features'] = X_train_2.columns\n",
    "vif['VIF'] = [variance_inflation_factor(X_train_2.values, i) for i in range(X_train_2.shape[1])]\n",
    "vif['VIF'] = round(vif['VIF'], 2)\n",
    "vif = vif.sort_values(by = \"VIF\", ascending = False)\n",
    "vif"
   ]
  },
  {
   "cell_type": "code",
   "execution_count": null,
   "id": "b888660d",
   "metadata": {},
   "outputs": [],
   "source": [
    "# Removing Cylinder Number SIX  based on Pvalue and VIF\n",
    "X_train_3 = X_train_2.drop('cylindernumber(six)',axis=1)\n",
    "\n",
    "# Adding constant \n",
    "X_train_sm_3 = sm.add_constant(X_train_3)\n",
    "# Creating and fitting the model\n",
    "lr_model_3 = sm.OLS(y_train, X_train_sm_3).fit()\n",
    "print(lr_model_3.summary())\n",
    "\n",
    "# Create VIF for Model-3\n",
    "vif = pd.DataFrame()\n",
    "vif['Features'] = X_train_3.columns\n",
    "vif['VIF'] = [variance_inflation_factor(X_train_3.values, i) for i in range(X_train_3.shape[1])]\n",
    "vif['VIF'] = round(vif['VIF'], 2)\n",
    "vif = vif.sort_values(by = \"VIF\", ascending = False)\n",
    "vif"
   ]
  },
  {
   "cell_type": "code",
   "execution_count": null,
   "id": "f3116518",
   "metadata": {},
   "outputs": [],
   "source": [
    "#removing Highway-MPG based on Pvalue and VIF\n",
    "X_train_4 = X_train_3.drop('highway-mpg',axis=1)\n",
    "\n",
    "# Adding constant \n",
    "X_train_sm_4 = sm.add_constant(X_train_4)\n",
    "# Creating and fitting the model\n",
    "lr_model_4 = sm.OLS(y_train, X_train_sm_4).fit()\n",
    "print(lr_model_4.summary())\n",
    "\n",
    "# Create VIF for Model-4\n",
    "vif = pd.DataFrame()\n",
    "vif['Features'] = X_train_4.columns\n",
    "vif['VIF'] = [variance_inflation_factor(X_train_4.values, i) for i in range(X_train_4.shape[1])]\n",
    "vif['VIF'] = round(vif['VIF'], 2)\n",
    "vif = vif.sort_values(by = \"VIF\", ascending = False)\n",
    "vif"
   ]
  },
  {
   "cell_type": "code",
   "execution_count": null,
   "id": "0fdc1524",
   "metadata": {},
   "outputs": [],
   "source": [
    "# Removing Cylinder Number TWO based on Pvalue and VIF\n",
    "X_train_5= X_train_4.drop('cylindernumber(two)',axis=1)\n",
    "\n",
    "# Adding constant \n",
    "X_train_sm_5 = sm.add_constant(X_train_5)\n",
    "# Creating and fitting the model\n",
    "lr_model_5 = sm.OLS(y_train, X_train_sm_5).fit()\n",
    "print(lr_model_5.summary())\n",
    "\n",
    "# Create VIF for Model-2\n",
    "vif = pd.DataFrame()\n",
    "vif['Features'] = X_train_5.columns\n",
    "vif['VIF'] = [variance_inflation_factor(X_train_5.values, i) for i in range(X_train_5.shape[1])]\n",
    "vif['VIF'] = round(vif['VIF'], 2)\n",
    "vif = vif.sort_values(by = \"VIF\", ascending = False)\n",
    "vif"
   ]
  },
  {
   "cell_type": "code",
   "execution_count": null,
   "id": "249c6432",
   "metadata": {},
   "outputs": [],
   "source": [
    "# Removing Engine Location based on Pvalue and VIF\n",
    "X_train_6= X_train_5.drop('engine-location',axis=1)\n",
    "\n",
    "# Adding constant \n",
    "X_train_sm_6 = sm.add_constant(X_train_6)\n",
    "# Creating and fitting the model\n",
    "lr_model_6 = sm.OLS(y_train, X_train_sm_6).fit()\n",
    "print(lr_model_6.summary())\n",
    "\n",
    "# Create VIF for Model-2\n",
    "vif = pd.DataFrame()\n",
    "vif['Features'] = X_train_6.columns\n",
    "vif['VIF'] = [variance_inflation_factor(X_train_6.values, i) for i in range(X_train_6.shape[1])]\n",
    "vif['VIF'] = round(vif['VIF'], 2)\n",
    "vif = vif.sort_values(by = \"VIF\", ascending = False)\n",
    "vif"
   ]
  },
  {
   "cell_type": "code",
   "execution_count": null,
   "id": "4e6703cf",
   "metadata": {},
   "outputs": [],
   "source": [
    "# Removing engine size based on Pvalue and VIF\n",
    "X_train_7= X_train_6.drop('engine-size',axis=1)\n",
    "\n",
    "# Adding constant \n",
    "X_train_sm_7 = sm.add_constant(X_train_7)\n",
    "# Creating and fitting the model\n",
    "lr_model_7 = sm.OLS(y_train, X_train_sm_7).fit()\n",
    "print(lr_model_7.summary())\n",
    "\n",
    "# Create VIF for Model-2\n",
    "vif = pd.DataFrame()\n",
    "vif['Features'] = X_train_7.columns\n",
    "vif['VIF'] = [variance_inflation_factor(X_train_7.values, i) for i in range(X_train_7.shape[1])]\n",
    "vif['VIF'] = round(vif['VIF'], 2)\n",
    "vif = vif.sort_values(by = \"VIF\", ascending = False)\n",
    "vif"
   ]
  },
  {
   "cell_type": "code",
   "execution_count": null,
   "id": "45e08685",
   "metadata": {},
   "outputs": [],
   "source": [
    "# Removing BORE based on Pvalue and VIF\n",
    "X_train_8= X_train_7.drop('bore',axis=1)\n",
    "\n",
    "# Adding constant \n",
    "X_train_sm_8 = sm.add_constant(X_train_8)\n",
    "# Creating and fitting the model\n",
    "lr_model_8 = sm.OLS(y_train, X_train_sm_8).fit()\n",
    "print(lr_model_8.summary())\n",
    "\n",
    "# Create VIF for Model-2\n",
    "vif = pd.DataFrame()\n",
    "vif['Features'] = X_train_8.columns\n",
    "vif['VIF'] = [variance_inflation_factor(X_train_8.values, i) for i in range(X_train_8.shape[1])]\n",
    "vif['VIF'] = round(vif['VIF'], 2)\n",
    "vif = vif.sort_values(by = \"VIF\", ascending = False)\n",
    "vif"
   ]
  },
  {
   "cell_type": "code",
   "execution_count": null,
   "id": "ee8eb507",
   "metadata": {},
   "outputs": [],
   "source": [
    "# Removing Engine Type ROTOR based on Pvalue and VIF\n",
    "X_train_9= X_train_8.drop('enginetype(rotor)',axis=1)\n",
    "\n",
    "# Adding constant \n",
    "X_train_sm_9 = sm.add_constant(X_train_9)\n",
    "# Creating and fitting the model\n",
    "lr_model_9 = sm.OLS(y_train, X_train_sm_9).fit()\n",
    "print(lr_model_9.summary())\n",
    "\n",
    "# Create VIF for Model-2\n",
    "vif = pd.DataFrame()\n",
    "vif['Features'] = X_train_9.columns\n",
    "vif['VIF'] = [variance_inflation_factor(X_train_9.values, i) for i in range(X_train_9.shape[1])]\n",
    "vif['VIF'] = round(vif['VIF'], 2)\n",
    "vif = vif.sort_values(by = \"VIF\", ascending = False)\n",
    "vif"
   ]
  },
  {
   "cell_type": "code",
   "execution_count": null,
   "id": "a9c4c2a0",
   "metadata": {},
   "outputs": [],
   "source": [
    "# Removing make(mercury) based on Pvalue and Ptype\n",
    "X_train_10= X_train_9.drop('make(mercury)',axis=1)\n",
    "\n",
    "# Adding constant \n",
    "X_train_sm_10 = sm.add_constant(X_train_10)\n",
    "# Creating and fitting the model\n",
    "lr_model_10 = sm.OLS(y_train, X_train_sm_10).fit()\n",
    "print(lr_model_10.summary())\n",
    "\n",
    "# Create VIF for Model-2\n",
    "vif = pd.DataFrame()\n",
    "vif['Features'] = X_train_10.columns\n",
    "vif['VIF'] = [variance_inflation_factor(X_train_10.values, i) for i in range(X_train_10.shape[1])]\n",
    "vif['VIF'] = round(vif['VIF'], 2)\n",
    "vif = vif.sort_values(by = \"VIF\", ascending = False)\n",
    "vif"
   ]
  },
  {
   "cell_type": "code",
   "execution_count": null,
   "id": "e8ecfee0",
   "metadata": {},
   "outputs": [],
   "source": [
    "# Removing Stroke based on Pvalue and VIF\n",
    "X_train_11= X_train_10.drop('stroke',axis=1)\n",
    "\n",
    "# Adding constant \n",
    "X_train_sm_11 = sm.add_constant(X_train_11)\n",
    "# Creating and fitting the model\n",
    "lr_model_11 = sm.OLS(y_train, X_train_sm_11).fit()\n",
    "print(lr_model_11.summary())\n",
    "\n",
    "# Create VIF for Model-2\n",
    "vif = pd.DataFrame()\n",
    "vif['Features'] = X_train_11.columns\n",
    "vif['VIF'] = [variance_inflation_factor(X_train_11.values, i) for i in range(X_train_11.shape[1])]\n",
    "vif['VIF'] = round(vif['VIF'], 2)\n",
    "vif = vif.sort_values(by = \"VIF\", ascending = False)\n",
    "vif"
   ]
  },
  {
   "cell_type": "code",
   "execution_count": null,
   "id": "3c0358b9",
   "metadata": {},
   "outputs": [],
   "source": [
    "#RESIDUAL Analysis\n",
    "# Find y_train prediction\n",
    "y_train_pred = lr_model_11.predict(X_train_sm_11)"
   ]
  },
  {
   "cell_type": "code",
   "execution_count": null,
   "id": "eda547f9",
   "metadata": {},
   "outputs": [],
   "source": [
    "# Residual\n",
    "residual = y_train - y_train_pred"
   ]
  },
  {
   "cell_type": "code",
   "execution_count": null,
   "id": "d3a39d60",
   "metadata": {},
   "outputs": [],
   "source": [
    "# Distribution of residuals or error terms\n",
    "sns.distplot(residual)"
   ]
  },
  {
   "cell_type": "code",
   "execution_count": null,
   "id": "f132f5e0",
   "metadata": {},
   "outputs": [],
   "source": [
    "# Scale the test set variables with min-max scaler\n",
    "# Transform the data\n",
    "df_test[num_vars] = scaler.transform(df_test[num_vars])\n",
    "df_test.head()"
   ]
  },
  {
   "cell_type": "code",
   "execution_count": null,
   "id": "991eeb89",
   "metadata": {},
   "outputs": [],
   "source": [
    "# Popping out the 'price' column for y_test\n",
    "y_test = df_test.pop('price')\n",
    "# Creating X_test\n",
    "X_test = df_test"
   ]
  },
  {
   "cell_type": "code",
   "execution_count": null,
   "id": "2a28be4b",
   "metadata": {},
   "outputs": [],
   "source": [
    "# Taking only the columns from the final model.\n",
    "X_test = X_test[X_train_11.columns]\n",
    "X_test.head()"
   ]
  },
  {
   "cell_type": "code",
   "execution_count": null,
   "id": "c4ee25c4",
   "metadata": {},
   "outputs": [],
   "source": [
    "# Add constant\n",
    "X_test_sm = sm.add_constant(X_test)\n",
    "X_test_sm.head()"
   ]
  },
  {
   "cell_type": "code",
   "execution_count": null,
   "id": "1b0d96bc",
   "metadata": {},
   "outputs": [],
   "source": [
    "# Predict the model on the test set\n",
    "y_test_pred = lr_model_11.predict(X_test_sm)"
   ]
  },
  {
   "cell_type": "code",
   "execution_count": null,
   "id": "67df005e",
   "metadata": {},
   "outputs": [],
   "source": [
    "y_test_pred"
   ]
  },
  {
   "cell_type": "code",
   "execution_count": null,
   "id": "c86bb184",
   "metadata": {},
   "outputs": [],
   "source": [
    "# Evaluate the model with r-squared on the test set\n",
    "r2 = r2_score(y_test, y_test_pred)\n",
    "r2"
   ]
  },
  {
   "cell_type": "code",
   "execution_count": null,
   "id": "017c1516",
   "metadata": {},
   "outputs": [],
   "source": [
    "#adjusted R value\n",
    "adj_r2 = 1 - ((1 - r2) * (len(X_train) - 1) / (len(X_train) -7 - 1))\n",
    "adj_r2"
   ]
  },
  {
   "cell_type": "code",
   "execution_count": null,
   "id": "0616fe7b",
   "metadata": {},
   "outputs": [],
   "source": [
    "#RMSE Calculation\n",
    "from sklearn.metrics import mean_squared_error\n",
    "import math\n",
    "\n",
    "MSE = np.square(np.subtract(y_test,y_test_pred)).mean() \n",
    " \n",
    "RMSE = math.sqrt(MSE)\n",
    "print(\"Root Mean Square Error:\\n\")\n",
    "print(RMSE)"
   ]
  },
  {
   "cell_type": "code",
   "execution_count": null,
   "id": "4b180519",
   "metadata": {},
   "outputs": [],
   "source": [
    "#Test Data read and process for prediction\n",
    "# Read the data\n",
    "df_test= pd.read_csv('TestData.csv')\n",
    "df_test.head()"
   ]
  },
  {
   "cell_type": "code",
   "execution_count": null,
   "id": "788e8e33",
   "metadata": {},
   "outputs": [],
   "source": [
    "df_test"
   ]
  },
  {
   "cell_type": "code",
   "execution_count": null,
   "id": "6e8a5095",
   "metadata": {},
   "outputs": [],
   "source": [
    "X_train_11.columns"
   ]
  },
  {
   "cell_type": "code",
   "execution_count": null,
   "id": "a15c9330",
   "metadata": {},
   "outputs": [],
   "source": [
    "df_test['num-of-doors'] = df_test['num-of-doors'].map({'four':1, 'two':0,'?':1})"
   ]
  },
  {
   "cell_type": "code",
   "execution_count": null,
   "id": "91523479",
   "metadata": {},
   "outputs": [],
   "source": [
    "#find all frames with \"?\"\n",
    "df_test=df_test.replace(\"?\",np.NaN)\n",
    "\n",
    "#remove column ID\n",
    "df_test=df_test.drop([\"ID\"],axis=1)"
   ]
  },
  {
   "cell_type": "code",
   "execution_count": null,
   "id": "665518f6",
   "metadata": {},
   "outputs": [],
   "source": [
    "df_test['normalized-losses']=df_test['normalized-losses'].astype(np.float)"
   ]
  },
  {
   "cell_type": "code",
   "execution_count": null,
   "id": "70f4d4f5",
   "metadata": {},
   "outputs": [],
   "source": [
    "df_test['bore']=df_test['bore'].astype(float)"
   ]
  },
  {
   "cell_type": "code",
   "execution_count": null,
   "id": "02f84ccb",
   "metadata": {},
   "outputs": [],
   "source": [
    "df_test['stroke']=df_test['stroke'].astype(float)"
   ]
  },
  {
   "cell_type": "code",
   "execution_count": null,
   "id": "1118c46c",
   "metadata": {},
   "outputs": [],
   "source": [
    "df_test['horsepower']=df_test['horsepower'].astype(np.float)"
   ]
  },
  {
   "cell_type": "code",
   "execution_count": null,
   "id": "3166aef2",
   "metadata": {},
   "outputs": [],
   "source": [
    "df_test['peak-rpm']=df_test['peak-rpm'].astype(np.float)"
   ]
  },
  {
   "cell_type": "code",
   "execution_count": null,
   "id": "a7daf5d1",
   "metadata": {},
   "outputs": [],
   "source": [
    "df_test.fillna(df_test.mean(),inplace=True)"
   ]
  },
  {
   "cell_type": "code",
   "execution_count": null,
   "id": "41449483",
   "metadata": {},
   "outputs": [],
   "source": [
    "df_test.info()"
   ]
  },
  {
   "cell_type": "code",
   "execution_count": null,
   "id": "b6e16caf",
   "metadata": {},
   "outputs": [],
   "source": [
    "#Convert All left categorical variables in to numerical variables\n",
    "# Convert \"fuel-type\" to 1 and \"diesel\" to 0\n",
    "df_test['fuel-type'] = df_test['fuel-type'].map({'gas': 1, 'diesel': 0})\n",
    "df_test.head()\n",
    "\n",
    "df_test['engine-location'] = df_test['engine-location'].map({'front': 1, 'rear': 0})\n",
    "df_test.head()\n",
    "\n",
    "\n",
    "# Convert aspiration \"std\" to 1 and \"turbo\" to 0\n",
    "df_test['aspiration'] = df_test['aspiration'].map({'std':1, 'turbo':0})\n",
    "df_test.head()\n"
   ]
  },
  {
   "cell_type": "code",
   "execution_count": null,
   "id": "cf05ca87",
   "metadata": {},
   "outputs": [],
   "source": [
    "# Creating dummy variables for 'make'\n",
    "# Dropping the redundant dummy variable (convertible)\n",
    "make_status = pd.get_dummies(df_test['make'],drop_first=True)\n",
    "make_status.head()\n",
    "\n",
    "\n",
    "# Renaming column names for better readability\n",
    "make_status = make_status.rename(columns={    'audi':'make(audi)','bmw':'make(BMW)', \n",
    "                                             'chevrolet':'make(chevrolet)','dodge':'make(dodge)', \n",
    "                                             'honda':'make(honda)','jaguar':'make(jaguar)',\n",
    "                                             'mazda':'make(mazda)','mercedes-benz':'make(mercedes-benz)', \n",
    "                                             'mitsubishi':'make(mitsubishi)','nissan':'make(nissan)',\n",
    "                                             'peugot':'make(peugot)','plymouth':'make(plymouth)',\n",
    "                                            'porsche':'make(porsche)','saab':'make(saab)', \n",
    "                                             'subaru':'make(subaru)','toyota':'make(toyota)',\n",
    "                                             'volkswagen':'make(volkswagen)', 'volvo':'make(volvo)',\n",
    "                                             'alfa-romero':'make(alfa-romero)','isuzu':'make(isuzu)',\n",
    "                                            'mercury':'make(mercury)','renault':'make(renault)' })\n",
    "make_status.head()\n",
    "\n",
    "\n",
    "# Concatinating the dummy dataframe with original dataframe\n",
    "df_test = pd.concat([df_test,make_status], axis=1)\n",
    "df_test.head()\n",
    "\n",
    "\n",
    "# Dropping the 'make' column as we don't need it\n",
    "df_test = df_test.drop('make',axis=1)\n",
    "df_test.head()"
   ]
  },
  {
   "cell_type": "code",
   "execution_count": null,
   "id": "d5f4f8ec",
   "metadata": {},
   "outputs": [],
   "source": [
    "#add missing columns in make \n",
    "df_test['make(chevrolet)']=0\n",
    "df_test['make(dodge)']=0\n",
    "df_test['make(isuzu)']=0\n",
    "df_test['make(mercedes-benz)']=0\n",
    "df_test['make(mercury)']=0\n",
    "df_test['make(porsche)']=0\n",
    "df_test['make(renault)']=0\n",
    "df_test[ 'make(subaru)']=0\n",
    "df_test['make(jaguar)']=0\n",
    "df_test['make(audi)']=0\n",
    "df_test"
   ]
  },
  {
   "cell_type": "code",
   "execution_count": null,
   "id": "879e2d0c",
   "metadata": {},
   "outputs": [],
   "source": [
    "# Creating dummy variables for 'body style'\n",
    "body_status = pd.get_dummies(df_test['body-style'],drop_first=True)\n",
    "body_status.head()\n",
    "\n",
    "# Renaming column names for better readability\n",
    "body_status = body_status.rename(columns={'convertible':'body(convertible)','hardtop':'body(hardtop)', 'hatchback':'body(hatchback)', 'sedan':'body(sedan)','wagon':'body(wagon)'})\n",
    "body_status.head()\n",
    "\n",
    "# Concatinating the dummy dataframe with original dataframe\n",
    "df_test = pd.concat([df_test,body_status], axis=1)\n",
    "df_test.head()\n",
    "\n",
    "# Dropping the 'body-style' column as we don't need it\n",
    "df_test = df_test.drop('body-style',axis=1)\n",
    "df_test.head()\n"
   ]
  },
  {
   "cell_type": "code",
   "execution_count": null,
   "id": "d1983608",
   "metadata": {},
   "outputs": [],
   "source": [
    "df_test['body(hardtop)']=0\n",
    "df_test['body(hatchback)']=0"
   ]
  },
  {
   "cell_type": "code",
   "execution_count": null,
   "id": "e166ce23",
   "metadata": {},
   "outputs": [],
   "source": [
    "df_test"
   ]
  },
  {
   "cell_type": "code",
   "execution_count": null,
   "id": "0a6da935",
   "metadata": {},
   "outputs": [],
   "source": [
    "# Creating dummy variables for 'drive-wheels'\n",
    "drivewheel_status = pd.get_dummies(df_test['drive-wheels'],drop_first=True)\n",
    "drivewheel_status.head()\n",
    "\n",
    "\n",
    "# Renaming column names for better readability\n",
    "drivewheel_status = drivewheel_status.rename(columns={'4wd':'drive(4wd)', 'fwd':'drive(fwd)', 'rwd':'drive(rwd)'})\n",
    "drivewheel_status.head()\n",
    "\n",
    "# Concatinating the dummy dataframe with original dataframe\n",
    "df_test = pd.concat([df_test,drivewheel_status], axis=1)\n",
    "df_test.head()\n",
    "\n",
    "# Dropping the 'body-style' column as we don't need it\n",
    "df_test = df_test.drop('drive-wheels',axis=1)\n",
    "df_test.head()\n"
   ]
  },
  {
   "cell_type": "code",
   "execution_count": null,
   "id": "2697cbd0",
   "metadata": {},
   "outputs": [],
   "source": [
    "df_test['drive(fwd)']=0\n"
   ]
  },
  {
   "cell_type": "code",
   "execution_count": null,
   "id": "2ec24e4d",
   "metadata": {},
   "outputs": [],
   "source": [
    "df_test"
   ]
  },
  {
   "cell_type": "code",
   "execution_count": null,
   "id": "46e97c52",
   "metadata": {},
   "outputs": [],
   "source": [
    "# Creating dummy variables for 'engine-type'\n",
    "enginetype_status = pd.get_dummies(df_test['engine-type'], drop_first=True)\n",
    "enginetype_status.head()\n",
    "\n",
    "# Renaming column name for better readability\n",
    "enginetype_status = enginetype_status.rename(columns={'dohc':'enginetype(dohc)', 'l':'enginetype(l)', 'ohc':'enginetype(ohc)', \n",
    "                                                      'ohcf':'enginetype(ohcf)','ohcv':'enginetype(ohcv)',\n",
    "                                                        'rotor':'enginetype(rotor)'})\n",
    "enginetype_status.head()\n",
    "\n",
    "\n",
    "# Concating the dummy dataframe with original dataframe\n",
    "df_test = pd.concat([df_test,enginetype_status], axis=1)\n",
    "df_test.head()\n",
    "\n",
    "# Dropping the 'enginetype' column as we don't need it\n",
    "df_test = df_test.drop('engine-type',axis=1)\n",
    "df_test.head()"
   ]
  },
  {
   "cell_type": "code",
   "execution_count": null,
   "id": "4b5a4144",
   "metadata": {},
   "outputs": [],
   "source": [
    "df_test['enginetype(ohcf)']=0\n",
    "df_test['enginetype(ohcv)']=0\n",
    "df_test['enginetype(rotor)']=0\n"
   ]
  },
  {
   "cell_type": "code",
   "execution_count": null,
   "id": "f68ec67c",
   "metadata": {},
   "outputs": [],
   "source": [
    "df_test"
   ]
  },
  {
   "cell_type": "code",
   "execution_count": null,
   "id": "578844e2",
   "metadata": {},
   "outputs": [],
   "source": [
    "# Creating dummy variables for 'cylinders'\n",
    "cylinders_status = pd.get_dummies(df_test['num-of-cylinders'], drop_first=True)\n",
    "cylinders_status.head()\n",
    "\n",
    "# Creating dummy variables for 'cylindernumber'\n",
    "cylinders_status = cylinders_status.rename(columns={'eight':'cylindernumber(eight)','five':'cylindernumber(five)', 'four':'cylindernumber(four)', 'six':'cylindernumber(six)', \n",
    "                                                      'three':'cylindernumber(three)','twelve':'cylindernumber(twelve)',\n",
    "                                                       'two':'cylindernumber(two)'})\n",
    "cylinders_status.head()\n",
    "\n",
    "# Concating the dummy dataframe with original dataframe\n",
    "df_test = pd.concat([df_test,cylinders_status], axis=1)\n",
    "df_test.head()\n",
    "\n",
    "#Dropping the 'cylindernumber' column as we don't need it\n",
    "df_test = df_test.drop('num-of-cylinders',axis=1)\n",
    "df_test.head()"
   ]
  },
  {
   "cell_type": "code",
   "execution_count": null,
   "id": "efac9724",
   "metadata": {},
   "outputs": [],
   "source": [
    "df_test['cylindernumber(three)']=0\n",
    "df_test['cylindernumber(five)']=0\n",
    "df_test['cylindernumber(two)']=0\n",
    "df_test['cylindernumber(twelve)']=0"
   ]
  },
  {
   "cell_type": "code",
   "execution_count": null,
   "id": "f2224d67",
   "metadata": {},
   "outputs": [],
   "source": [
    "df_test"
   ]
  },
  {
   "cell_type": "code",
   "execution_count": null,
   "id": "c7bbf9b1",
   "metadata": {},
   "outputs": [],
   "source": [
    "# Creating dummy variables for 'fuelsystem'\n",
    "fuelsystem_status = pd.get_dummies(df_test['fuel-system'], drop_first=True)\n",
    "fuelsystem_status.head()\n",
    "\n",
    "# Renaming column name for better readability\n",
    "fuelsystem_status = fuelsystem_status.rename(columns={'1bbl':'fuelsystem(1bbl)','2bbl':'fuelsystem(2bbl)','idi':'fuelsystem(idi)', \n",
    "                                                      'mfi':'fuelsystem(mfi)','mpfi':'fuelsystem(mpfi)' ,'spdi':'fuelsystem(spdi)',\n",
    "                                                     'spfi':'fuelsystem(spfi)','4bbl':'fuelsystem(4bbl)'})\n",
    "fuelsystem_status.head()\n",
    "\n",
    "# Concating the dummy dataframe with original dataframe\n",
    "df_test = pd.concat([df_test,fuelsystem_status], axis=1)\n",
    "df_test.head()\n",
    "\n",
    "# Dropping the 'fuelsystem' column as we don't need it\n",
    "df_test = df_test.drop('fuel-system',axis=1)\n",
    "df_test.head()"
   ]
  },
  {
   "cell_type": "code",
   "execution_count": null,
   "id": "1219a0ce",
   "metadata": {},
   "outputs": [],
   "source": [
    "df_test['fuelsystem(4bbl)']=0\n",
    "df_test['fuelsystem(mfi)']=0\n",
    "df_test['fuelsystem(spdi)']=0\n",
    "df_test['fuelsystem(spfi)']=0"
   ]
  },
  {
   "cell_type": "code",
   "execution_count": null,
   "id": "ef921023",
   "metadata": {},
   "outputs": [],
   "source": [
    "df_test.info()"
   ]
  },
  {
   "cell_type": "code",
   "execution_count": null,
   "id": "bd89d963",
   "metadata": {},
   "outputs": [],
   "source": [
    "df_train.info()"
   ]
  },
  {
   "cell_type": "code",
   "execution_count": null,
   "id": "7d5daec6",
   "metadata": {},
   "outputs": [],
   "source": [
    "df_test['price']=0"
   ]
  },
  {
   "cell_type": "code",
   "execution_count": null,
   "id": "a9445e9f",
   "metadata": {},
   "outputs": [],
   "source": [
    "# Create a list of numeric variables. We don't need categorical variables because they are already scalled in 0 and 1.\n",
    "num_vars1 = ['symboling','normalized-losses','wheel-base','length','width','height','curb-weight','engine-size',\n",
    "            'bore','stroke','compression-ratio','horsepower','peak-rpm','city-mpg','highway-mpg','price']\n",
    "\n",
    "# Instantiate an object\n",
    "scaler1 = MinMaxScaler()\n",
    "\n",
    "# Fit the data in the object\n",
    "df_test[num_vars1] = scaler1.fit_transform(df_test[num_vars1])\n",
    "df_test"
   ]
  },
  {
   "cell_type": "code",
   "execution_count": null,
   "id": "7cad6bf7",
   "metadata": {},
   "outputs": [],
   "source": [
    "X_test_1 = df_test"
   ]
  },
  {
   "cell_type": "code",
   "execution_count": null,
   "id": "ce49c4d8",
   "metadata": {},
   "outputs": [],
   "source": [
    "# Popping out the 'price' column for y_train\n",
    "y_test_1= df_test.pop('price') \n",
    "# Creating X_train\n",
    "X_test_1 = df_test"
   ]
  },
  {
   "cell_type": "code",
   "execution_count": null,
   "id": "06c4b633",
   "metadata": {},
   "outputs": [],
   "source": [
    "X_test_1"
   ]
  },
  {
   "cell_type": "code",
   "execution_count": null,
   "id": "f4005ebd",
   "metadata": {},
   "outputs": [],
   "source": [
    "y_test_1"
   ]
  },
  {
   "cell_type": "code",
   "execution_count": null,
   "id": "b83a7943",
   "metadata": {},
   "outputs": [],
   "source": [
    "# Taking only the columns from the final model.\n",
    "X_test_1= X_test_1[X_train_11.columns]\n",
    "X_test_1.head()"
   ]
  },
  {
   "cell_type": "code",
   "execution_count": null,
   "id": "42de9df6",
   "metadata": {},
   "outputs": [],
   "source": [
    "# Add constant\n",
    "X_test_1_sm = sm.add_constant(X_test_1)\n",
    "X_test_1_sm.head()"
   ]
  },
  {
   "cell_type": "code",
   "execution_count": null,
   "id": "14489339",
   "metadata": {},
   "outputs": [],
   "source": [
    "#predict\n",
    "y_test_pred1 = lr_model_11.predict(X_test_1_sm)"
   ]
  },
  {
   "cell_type": "code",
   "execution_count": null,
   "id": "55b051c3",
   "metadata": {},
   "outputs": [],
   "source": [
    "#FINAL Predicted numbers for test set\n",
    "y_test_pred1"
   ]
  },
  {
   "cell_type": "code",
   "execution_count": null,
   "id": "c47382e6",
   "metadata": {},
   "outputs": [],
   "source": [
    "#join the predicted values\n",
    "df=pd.concat([df_test,y_test_pred1],axis=1, sort=False)"
   ]
  },
  {
   "cell_type": "code",
   "execution_count": null,
   "id": "ce802c73",
   "metadata": {},
   "outputs": [],
   "source": [
    "df.rename(columns={0: 'price'},inplace=True)"
   ]
  },
  {
   "cell_type": "code",
   "execution_count": null,
   "id": "0a6cab7c",
   "metadata": {},
   "outputs": [],
   "source": [
    "df"
   ]
  },
  {
   "cell_type": "code",
   "execution_count": null,
   "id": "edc83536",
   "metadata": {},
   "outputs": [],
   "source": [
    "#inverse transform\n",
    "df[num_vars1]= scaler.inverse_transform(df[num_vars1])"
   ]
  },
  {
   "cell_type": "code",
   "execution_count": null,
   "id": "76f60cb2",
   "metadata": {},
   "outputs": [],
   "source": [
    "#final predicted price from the model\n",
    "df"
   ]
  },
  {
   "cell_type": "code",
   "execution_count": 2580,
   "id": "c4e7e3cd",
   "metadata": {},
   "outputs": [],
   "source": [
    "#Move to CSV for final predicted prices\n",
    "df.to_csv('Predicted_final.csv',index=False, header=False)"
   ]
  },
  {
   "cell_type": "code",
   "execution_count": null,
   "id": "477fed8d",
   "metadata": {},
   "outputs": [],
   "source": []
  }
 ],
 "metadata": {
  "kernelspec": {
   "display_name": "Python 3",
   "language": "python",
   "name": "python3"
  },
  "language_info": {
   "codemirror_mode": {
    "name": "ipython",
    "version": 3
   },
   "file_extension": ".py",
   "mimetype": "text/x-python",
   "name": "python",
   "nbconvert_exporter": "python",
   "pygments_lexer": "ipython3",
   "version": "3.8.8"
  }
 },
 "nbformat": 4,
 "nbformat_minor": 5
}
